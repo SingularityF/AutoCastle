{
 "cells": [
  {
   "cell_type": "code",
   "execution_count": 1,
   "metadata": {},
   "outputs": [],
   "source": [
    "import cv2\n",
    "import numpy as np\n",
    "import matplotlib.pyplot as plt\n",
    "import tensorflow as tf"
   ]
  },
  {
   "cell_type": "code",
   "execution_count": 21,
   "metadata": {},
   "outputs": [],
   "source": [
    "img=cv2.imread(\"test_imgs/err_231000.png\")\n",
    "gray = cv2.cvtColor(img, cv2.COLOR_BGR2GRAY)\n",
    "_,bwimg=cv2.threshold(gray,240,255,cv2.THRESH_BINARY)"
   ]
  },
  {
   "cell_type": "code",
   "execution_count": 22,
   "metadata": {},
   "outputs": [
    {
     "data": {
      "text/plain": [
       "<matplotlib.image.AxesImage at 0x2b2068f1390>"
      ]
     },
     "execution_count": 22,
     "metadata": {},
     "output_type": "execute_result"
    },
    {
     "data": {
      "image/png": "[encoded data removed]",
      "text/plain": [
       "<matplotlib.figure.Figure at 0x2b2051a2c88>"
      ]
     },
     "metadata": {},
     "output_type": "display_data"
    }
   ],
   "source": [
    "plt.imshow(bwimg)"
   ]
  },
  {
   "cell_type": "code",
   "execution_count": 4,
   "metadata": {},
   "outputs": [],
   "source": [
    "def get_chars(img):\n",
    "    \"\"\"Break an image of numbers into a list of images of characters\n",
    "    \n",
    "    Reference: https://stackoverflow.com/questions/50713023/license-plate-character-segmentation-python-opencv\n",
    "    \"\"\"\n",
    "    chars=[]\n",
    "    _,contours,_=cv2.findContours(img, cv2.RETR_EXTERNAL,cv2.CHAIN_APPROX_NONE)\n",
    "    # Sort bounding boxes from left to right\n",
    "    contours = sorted(contours, key=lambda ctr: cv2.boundingRect(ctr)[0])\n",
    "    for ctr in contours:\n",
    "        # Get bounding box\n",
    "        x, y, w, h = cv2.boundingRect(ctr)\n",
    "        # Getting ROI\n",
    "        roi = img[y:y+h, x:x+w]\n",
    "        chars.append(roi)\n",
    "    return chars\n",
    "\n",
    "def filter_chars(img):\n",
    "    \"\"\"Filter out non-character glyphs based on height/width ratio\n",
    "    \"\"\"\n",
    "    h,w=img.shape\n",
    "    ratio=h/w\n",
    "    if ratio<=1 or ratio>2.1:\n",
    "        return False\n",
    "    else:\n",
    "        return True\n",
    "        \n",
    "\n",
    "def conform_size(img):\n",
    "    \"\"\"Resize images to conform to the size of MNIST images, which is 28x28\n",
    "    \"\"\"\n",
    "    target_width=20\n",
    "    target_height=20\n",
    "    padding_second=4\n",
    "    h,w=img.shape\n",
    "    if w>h:\n",
    "        # Resize without stretching\n",
    "        new_h=int(np.round(h*target_height/w))\n",
    "        resized_img = cv2.resize(img, (target_width, new_h))\n",
    "        # Pad image\n",
    "        blank=target_height-new_h\n",
    "        pad_t=int(np.floor(blank/2))\n",
    "        pad_b=int(np.floor((blank+1)/2))\n",
    "        padded_img=cv2.copyMakeBorder(resized_img,pad_t,pad_b,0,0,cv2.BORDER_CONSTANT,value=0)\n",
    "        # Do padding again to add blanks so that the image resembles those from MNIST\n",
    "        # Otherwise the trained model is destined to fail\n",
    "        padded_img2=cv2.copyMakeBorder(padded_img,padding_second,padding_second,padding_second,padding_second,cv2.BORDER_CONSTANT,value=0)\n",
    "    else:\n",
    "        new_w=int(np.round(w*target_width/h))\n",
    "        resized_img = cv2.resize(img, (new_w,target_height))\n",
    "        blank=target_width-new_w\n",
    "        pad_l=int(np.floor(blank/2))\n",
    "        pad_r=int(np.floor((blank+1)/2))\n",
    "        padded_img=cv2.copyMakeBorder(resized_img,0,0,pad_l,pad_r,cv2.BORDER_CONSTANT,value=0)\n",
    "        padded_img2=cv2.copyMakeBorder(padded_img,padding_second,padding_second,padding_second,padding_second,cv2.BORDER_CONSTANT,value=0)\n",
    "    # 0-255 to 0-1\n",
    "    normalized=padded_img2/255\n",
    "    normalized = normalized.reshape(28, 28, 1)\n",
    "    return normalized"
   ]
  },
  {
   "cell_type": "code",
   "execution_count": 23,
   "metadata": {},
   "outputs": [],
   "source": [
    "characters=get_chars(bwimg)\n",
    "filt_chars=[img for img in characters if filter_chars(img)]\n",
    "# \"Normalized\" characters\n",
    "norm_chars=[conform_size(char) for char in filt_chars]"
   ]
  },
  {
   "cell_type": "code",
   "execution_count": 24,
   "metadata": {},
   "outputs": [
    {
     "data": {
      "image/png": "[encoded data removed]",
      "text/plain": [
       "<matplotlib.figure.Figure at 0x2b27f807be0>"
      ]
     },
     "metadata": {},
     "output_type": "display_data"
    }
   ],
   "source": [
    "for i,char in enumerate(norm_chars):\n",
    "    plt.subplot(len(norm_chars),1,i+1)\n",
    "    plt.imshow(char[:,:,0])"
   ]
  },
  {
   "cell_type": "code",
   "execution_count": 25,
   "metadata": {},
   "outputs": [],
   "source": [
    "model = tf.keras.models.load_model(\"models/mnist_cnn.h5\")"
   ]
  },
  {
   "cell_type": "code",
   "execution_count": 26,
   "metadata": {},
   "outputs": [
    {
     "name": "stdout",
     "output_type": "stream",
     "text": [
      "6/6 [==============================] - 0s\n"
     ]
    },
    {
     "data": {
      "text/plain": [
       "array([2, 3, 1, 0, 0, 0], dtype=int64)"
      ]
     },
     "execution_count": 26,
     "metadata": {},
     "output_type": "execute_result"
    }
   ],
   "source": [
    "model.predict_classes(np.array(norm_chars))"
   ]
  },
  {
   "cell_type": "code",
   "execution_count": 9,
   "metadata": {},
   "outputs": [],
   "source": [
    "\n",
    "mnist = tf.keras.datasets.mnist\n",
    "(x_train, y_train),(x_test, y_test) = mnist.load_data()"
   ]
  },
  {
   "cell_type": "code",
   "execution_count": 12,
   "metadata": {},
   "outputs": [
    {
     "data": {
      "text/plain": [
       "<matplotlib.image.AxesImage at 0x2b27f9a38d0>"
      ]
     },
     "execution_count": 12,
     "metadata": {},
     "output_type": "execute_result"
    },
    {
     "data": {
      "image/png": "[encoded data removed]",
      "text/plain": [
       "<matplotlib.figure.Figure at 0x2b27f66dcc0>"
      ]
     },
     "metadata": {},
     "output_type": "display_data"
    }
   ],
   "source": [
    "plt.imshow(x_train[5,:,:])"
   ]
  }
 ],
 "metadata": {
  "kernelspec": {
   "display_name": "Python 3",
   "language": "python",
   "name": "python3"
  },
  "language_info": {
   "codemirror_mode": {
    "name": "ipython",
    "version": 3
   },
   "file_extension": ".py",
   "mimetype": "text/x-python",
   "name": "python",
   "nbconvert_exporter": "python",
   "pygments_lexer": "ipython3",
   "version": "3.6.3"
  }
 },
 "nbformat": 4,
 "nbformat_minor": 2
}
